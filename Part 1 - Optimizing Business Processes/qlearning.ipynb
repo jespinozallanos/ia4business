{
  "nbformat": 4,
  "nbformat_minor": 0,
  "metadata": {
    "colab": {
      "name": "qlearning.ipynb",
      "provenance": [],
      "collapsed_sections": [],
      "include_colab_link": true
    },
    "kernelspec": {
      "name": "python3",
      "display_name": "Python 3"
    },
    "accelerator": "TPU"
  },
  "cells": [
    {
      "cell_type": "markdown",
      "metadata": {
        "id": "view-in-github",
        "colab_type": "text"
      },
      "source": [
        "<a href=\"https://colab.research.google.com/github/jespinozallanos/ia4business/blob/master/Part%201%20-%20Optimizing%20Business%20Processes/qlearning.ipynb\" target=\"_parent\"><img src=\"https://colab.research.google.com/assets/colab-badge.svg\" alt=\"Open In Colab\"/></a>"
      ]
    },
    {
      "cell_type": "markdown",
      "metadata": {
        "id": "ETcU-UCdX2CR"
      },
      "source": [
        "# Inteligencia Artificial Aplicada a Negocios y Empresas\n",
        "# Parte 1 - Optimizacion de los flujos de trabajo en un almacen con Q-Learning\n"
      ]
    },
    {
      "cell_type": "markdown",
      "metadata": {
        "id": "-cwBWjRCYAYs"
      },
      "source": [
        "## Importacion de las librerias\n"
      ]
    },
    {
      "cell_type": "code",
      "metadata": {
        "id": "WbSfEaCkU3Ux",
        "outputId": "12640a26-3d59-4684-c1a2-f488ea9e7969",
        "colab": {
          "base_uri": "https://localhost:8080/"
        }
      },
      "source": [
        "from google.colab import drive\n",
        "drive.mount('/content/drive')"
      ],
      "execution_count": 76,
      "outputs": [
        {
          "output_type": "stream",
          "text": [
            "Drive already mounted at /content/drive; to attempt to forcibly remount, call drive.mount(\"/content/drive\", force_remount=True).\n"
          ],
          "name": "stdout"
        }
      ]
    },
    {
      "cell_type": "code",
      "metadata": {
        "id": "44eMfhssUsfJ",
        "outputId": "96ee3741-1843-4a3c-fc5e-024bbd1d3a2b",
        "colab": {
          "base_uri": "https://localhost:8080/"
        }
      },
      "source": [
        "import numpy as np\r\n",
        "\r\n",
        "R = pd.read_csv(\"/content/drive/MyDrive/Colab Notebooks/Libro2.csv\",header=None )\r\n",
        "R=np.array(R)\r\n",
        "R"
      ],
      "execution_count": 79,
      "outputs": [
        {
          "output_type": "execute_result",
          "data": {
            "text/plain": [
              "array([[0, 0, 1, 1, 0, 0, 1, 1, 0, 0, 1, 1],\n",
              "       [0, 0, 1, 1, 1, 0, 0, 0, 0, 0, 1, 0],\n",
              "       [1, 1, 0, 0, 1, 0, 1, 1, 0, 1, 0, 1],\n",
              "       [1, 1, 0, 0, 0, 0, 0, 0, 0, 1, 1, 0],\n",
              "       [0, 1, 1, 0, 0, 1, 1, 0, 0, 0, 0, 1],\n",
              "       [0, 0, 0, 0, 1, 0, 1, 0, 1, 0, 0, 0],\n",
              "       [1, 0, 1, 0, 1, 1, 0, 0, 0, 0, 0, 0],\n",
              "       [1, 0, 1, 0, 0, 0, 0, 0, 0, 1, 1, 0],\n",
              "       [0, 0, 0, 0, 0, 1, 0, 0, 0, 0, 0, 1],\n",
              "       [0, 0, 1, 1, 0, 0, 0, 1, 0, 0, 0, 0],\n",
              "       [1, 1, 0, 1, 0, 0, 0, 1, 0, 0, 0, 1],\n",
              "       [1, 0, 1, 0, 1, 0, 0, 0, 1, 0, 1, 0]])"
            ]
          },
          "metadata": {
            "tags": []
          },
          "execution_count": 79
        }
      ]
    },
    {
      "cell_type": "code",
      "metadata": {
        "id": "wp02vLlRX8id"
      },
      "source": [
        "import numpy as np"
      ],
      "execution_count": 2,
      "outputs": []
    },
    {
      "cell_type": "markdown",
      "metadata": {
        "id": "aMd-Oz6kYMrZ"
      },
      "source": [
        "## Configuracion de los parametros gamma y alpha para el algoritmo de Q-Learning\n"
      ]
    },
    {
      "cell_type": "code",
      "metadata": {
        "id": "iLlhMXG4YR02"
      },
      "source": [
        "gamma = 0.2\n",
        "alpha = 0.5"
      ],
      "execution_count": 80,
      "outputs": []
    },
    {
      "cell_type": "markdown",
      "metadata": {
        "id": "U7EQfwzUYWwO"
      },
      "source": [
        "# PARTE 1 - DEFINICION DEL ENTORNO\n"
      ]
    },
    {
      "cell_type": "markdown",
      "metadata": {
        "id": "CLupkEwyYZFp"
      },
      "source": [
        "## Definicion de los estados\n"
      ]
    },
    {
      "cell_type": "code",
      "metadata": {
        "id": "fatEIa4SYbtj"
      },
      "source": [
        "location_to_state = {'A': 0,\n",
        "                     'B': 1,\n",
        "                     'C': 2,\n",
        "                     'D': 3,\n",
        "                     'E': 4,\n",
        "                     'F': 5,\n",
        "                     'G': 6, \n",
        "                     'H': 7, \n",
        "                     'I': 8,\n",
        "                     'J': 9,\n",
        "                     'K': 10,\n",
        "                     'L': 11}"
      ],
      "execution_count": 82,
      "outputs": []
    },
    {
      "cell_type": "markdown",
      "metadata": {
        "id": "VVGC3vOqYfde"
      },
      "source": [
        "## Definicion de las acciones"
      ]
    },
    {
      "cell_type": "code",
      "metadata": {
        "id": "SDoRZHA1YjIi"
      },
      "source": [
        "actions = [0, 1, 2, 3, 4, 5, 6, 7,8,9,10,11]"
      ],
      "execution_count": 81,
      "outputs": []
    },
    {
      "cell_type": "markdown",
      "metadata": {
        "id": "KfTTQ_rpYoQr"
      },
      "source": [
        "## Definicion de las recompensas\n",
        "## Columnas:    A,B,C,D,E,F,G,H,I,J,K,L"
      ]
    },
    {
      "cell_type": "code",
      "metadata": {
        "id": "vt-gj-P-YuI-"
      },
      "source": [
        "R = np.array([[0,1,0,0,0,0,0,0,0,0,0,0], # A\n",
        "              [1,0,1,0,0,1,0,0,0,0,0,0], # B\n",
        "              [0,1,0,0,0,0,1,0,0,0,0,0], # C\n",
        "              [0,0,0,0,0,0,0,1,0,0,0,0], # D\n",
        "              [0,0,0,0,0,0,0,0,1,0,0,0], # E\n",
        "              [0,1,0,0,0,0,0,0,0,1,0,0], # F\n",
        "              [0,0,1,0,0,0,1,1,0,0,0,0], # G\n",
        "              [0,0,0,1,0,0,1,0,0,0,0,1], # H\n",
        "              [0,0,0,0,1,0,0,0,0,1,0,0], # I\n",
        "              [0,0,0,0,0,1,0,0,1,0,1,0], # J\n",
        "              [0,0,0,0,0,0,0,0,0,1,0,1], # K\n",
        "              [0,0,0,0,0,0,0,1,0,0,1,0]])# L\n",
        "\n",
        "\n",
        "              "
      ],
      "execution_count": 11,
      "outputs": []
    },
    {
      "cell_type": "markdown",
      "metadata": {
        "id": "VwM454wTYz3A"
      },
      "source": [
        "# PARTE 2 - CONSTRUCCION DE LA SOLUCION DE IA CON Q-LEARNING\n"
      ]
    },
    {
      "cell_type": "markdown",
      "metadata": {
        "id": "3dXSl1flY5IY"
      },
      "source": [
        "## Transformacion inversa de estados a ubicaciones"
      ]
    },
    {
      "cell_type": "code",
      "metadata": {
        "id": "TOdvR6SZY8Gx"
      },
      "source": [
        "state_to_location = {state : location for location, state in location_to_state.items()}"
      ],
      "execution_count": 83,
      "outputs": []
    },
    {
      "cell_type": "markdown",
      "metadata": {
        "id": "OV9SEnr4ZBGY"
      },
      "source": [
        "## Crear la funcion final que nos devuelva la ruta óptima"
      ]
    },
    {
      "cell_type": "code",
      "metadata": {
        "id": "0UBOEcrYZIUQ"
      },
      "source": [
        "def route(starting_location, ending_location):\n",
        "    R_new = np.copy(R)\n",
        "    ending_state = location_to_state[ending_location]\n",
        "    R_new[ending_state, ending_state] = 1000\n",
        "    \n",
        "    Q = np.array(np.zeros([12, 12]))\n",
        "    for i in range(1000):\n",
        "        current_state = np.random.randint(0, 12)\n",
        "        playable_actions = []\n",
        "        for j in range(12):\n",
        "            if R_new[current_state, j] > 0:\n",
        "                playable_actions.append(j)\n",
        "        next_state = np.random.choice(playable_actions)\n",
        "        TD = R_new[current_state, next_state] + gamma*Q[next_state, np.argmax(Q[next_state,])] - Q[current_state, next_state]\n",
        "        Q[current_state, next_state] = Q[current_state, next_state] + alpha*TD\n",
        "    \n",
        "    route = [starting_location]\n",
        "    next_location = starting_location\n",
        "    while(next_location != ending_location):\n",
        "        starting_state = location_to_state[starting_location]\n",
        "        next_state = np.argmax(Q[starting_state, ])\n",
        "        next_location = state_to_location[next_state]\n",
        "        route.append(next_location)\n",
        "        starting_location = next_location\n",
        "    return route"
      ],
      "execution_count": 84,
      "outputs": []
    },
    {
      "cell_type": "markdown",
      "metadata": {
        "id": "FsMibrlYZbNu"
      },
      "source": [
        "# PARTE 3 - PONER EL MODELO EN PRODUCCION\n"
      ]
    },
    {
      "cell_type": "code",
      "metadata": {
        "id": "_S3rDm2TZedT",
        "colab": {
          "base_uri": "https://localhost:8080/"
        },
        "outputId": "6c28bf44-53b4-461d-931d-3606795983b1"
      },
      "source": [
        "def best_route(starting_location, intermediary_location, ending_location):\n",
        "    return route(starting_location, intermediary_location) + route(intermediary_location, ending_location)[1:]\n",
        "\n",
        "# Imprimir la ruta final\n",
        "print(\"Ruta Elegida:\")\n",
        "print(best_route('L','G', 'F'))"
      ],
      "execution_count": 88,
      "outputs": [
        {
          "output_type": "stream",
          "text": [
            "Ruta Elegida:\n",
            "['L', 'E', 'G', 'F']\n"
          ],
          "name": "stdout"
        }
      ]
    }
  ]
}